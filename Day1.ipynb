{
 "cells": [
  {
   "cell_type": "markdown",
   "metadata": {},
   "source": [
    "# 実験1 パーサ結合子の基本"
   ]
  },
  {
   "cell_type": "markdown",
   "metadata": {},
   "source": [
    "## 1-1 ライブラリ（cumps.js）の読み込み（最初に必ず必要）"
   ]
  },
  {
   "cell_type": "code",
   "execution_count": null,
   "metadata": {},
   "outputs": [],
   "source": [
    "var c = require(\"./cumps\");\n",
    "for (p in c) global[p] = c[p];\n",
    "function print(s) { console.log(s); }"
   ]
  },
  {
   "cell_type": "markdown",
   "metadata": {},
   "source": [
    "## 1-2 数（10進）を切り足すパーサnumの定義\n",
    "\n",
    "ライブラリ関数patに正規表現を与えるとそれを切り出すパーサを返す．"
   ]
  },
  {
   "cell_type": "code",
   "execution_count": null,
   "metadata": {},
   "outputs": [],
   "source": [
    "var num = pat(\"[0-9]+\")"
   ]
  },
  {
   "cell_type": "markdown",
   "metadata": {},
   "source": [
    "入力文字列\"123abc\"を与えてnumを呼び出すと結果としてオブジェクトが返る．オブジェクトには切り出した文字列\"123\"と残りの文字列\"abc\"が含まれる．numを2出力の関数と考えて以下のように図示すると理解しやすい．\n",
    "<img src=\"pics/num.png\">"
   ]
  },
  {
   "cell_type": "code",
   "execution_count": null,
   "metadata": {},
   "outputs": [],
   "source": [
    "num(\"123abc\") // \"123abc\"を他の文字列に変えて試してみよ"
   ]
  },
  {
   "cell_type": "markdown",
   "metadata": {},
   "source": [
    "当然，切り出しに失敗する場合もある．以下はabcという文字列の先頭から1文字以上の数字を切りだそうと試みて失敗する例．"
   ]
  },
  {
   "cell_type": "code",
   "execution_count": null,
   "metadata": {},
   "outputs": [],
   "source": [
    "num(\"abc\")"
   ]
  },
  {
   "cell_type": "markdown",
   "metadata": {},
   "source": [
    "## 1-3 英字（小文字）の並びを切り足すパーサalphaの定義"
   ]
  },
  {
   "cell_type": "code",
   "execution_count": null,
   "metadata": {},
   "outputs": [],
   "source": [
    "var alpha = pat(\"[a-z]+\");"
   ]
  },
  {
   "cell_type": "code",
   "execution_count": null,
   "metadata": {},
   "outputs": [],
   "source": [
    "alpha(\"abc123\")"
   ]
  },
  {
   "cell_type": "markdown",
   "metadata": {},
   "source": [
    "[課題1] 整数だけでなく小数も切り出せるパーサfnumを定義せよ．適切なテスト例を考えてテストを行え．"
   ]
  },
  {
   "cell_type": "code",
   "execution_count": null,
   "metadata": {},
   "outputs": [],
   "source": [
    "var fnum = pat(\"ここにどのような正規表現を与えればよいか？\");"
   ]
  },
  {
   "cell_type": "markdown",
   "metadata": {},
   "source": [
    "テスト例（これだけでは十分ではない．他の必要なテスト例は自分で考えよ．）"
   ]
  },
  {
   "cell_type": "code",
   "execution_count": null,
   "metadata": {},
   "outputs": [],
   "source": [
    "fnum(\"123abc\")"
   ]
  },
  {
   "cell_type": "code",
   "execution_count": null,
   "metadata": {},
   "outputs": [],
   "source": [
    "fnum(\"123.456abc\")"
   ]
  },
  {
   "cell_type": "code",
   "execution_count": null,
   "metadata": {},
   "outputs": [],
   "source": [
    "fnum(\"123.abc\")"
   ]
  },
  {
   "cell_type": "code",
   "execution_count": null,
   "metadata": {},
   "outputs": [],
   "source": [
    "fnum(\"123.456.789abc\")"
   ]
  },
  {
   "cell_type": "markdown",
   "metadata": {},
   "source": [
    "## 1-4 パーサの直列接続\n",
    "\n",
    "複数のパーサを順につなげれば流れ作業による処理が可能になる．それにはライブラリ関数seqにつなぎたいパーサを順に与える．以下はコンマで区切られた3つの数を切り出すパーサcsv3を定義する例．ライブラリ関数wに文字列を与えると、その文字列を切り出すパーサを返す．"
   ]
  },
  {
   "cell_type": "code",
   "execution_count": null,
   "metadata": {},
   "outputs": [],
   "source": [
    "var comma = w(\",\");"
   ]
  },
  {
   "cell_type": "code",
   "execution_count": null,
   "metadata": {},
   "outputs": [],
   "source": [
    "var csv3 = seq(num,comma,num,comma,num);"
   ]
  },
  {
   "cell_type": "code",
   "execution_count": null,
   "metadata": {
    "scrolled": true
   },
   "outputs": [],
   "source": [
    "csv3(\"12,34,56,78\")"
   ]
  },
  {
   "cell_type": "markdown",
   "metadata": {},
   "source": [
    "図示すると以下のようになる．\n",
    "<img src=\"pics/seq.png\">\n",
    "\n",
    "以下を実行するとコンマを区切りにして切り出した3つの数と2つのコンマが順に配列に格納されていることが分かる．4つ目の数以降は切り出されないでやり残しの文字列に含まれている．"
   ]
  },
  {
   "cell_type": "markdown",
   "metadata": {},
   "source": [
    "数とコンマの間にある空白は自動的に無視される．"
   ]
  },
  {
   "cell_type": "code",
   "execution_count": null,
   "metadata": {},
   "outputs": [],
   "source": [
    "csv3(\"12, 34    ,   56    ,78\")"
   ]
  },
  {
   "cell_type": "markdown",
   "metadata": {
    "collapsed": true
   },
   "source": [
    "解析結果に区切り記号のコンマを含めたくないときは、w(\",\")の代わりに単に\",\"を用いる．"
   ]
  },
  {
   "cell_type": "code",
   "execution_count": null,
   "metadata": {
    "scrolled": true
   },
   "outputs": [],
   "source": [
    "var csv3 = seq(num,\",\",num,\",\",num);"
   ]
  },
  {
   "cell_type": "markdown",
   "metadata": {
    "collapsed": true
   },
   "source": [
    "今度は配列に3つの数が順に格納されている．"
   ]
  },
  {
   "cell_type": "code",
   "execution_count": null,
   "metadata": {},
   "outputs": [],
   "source": [
    "csv3(\"12,34,56,78\")"
   ]
  },
  {
   "cell_type": "markdown",
   "metadata": {},
   "source": [
    "## 1-5 パーサの反復接続\n",
    "\n",
    "パーサを0回以上繰り返し用いて処理したいときはライブラリ関数moreThan0を用いる．以下は0個以上の数の並びを切り出すパーサnumsを定義する例．"
   ]
  },
  {
   "cell_type": "code",
   "execution_count": null,
   "metadata": {},
   "outputs": [],
   "source": [
    "var nums = moreThan0(num);"
   ]
  },
  {
   "cell_type": "code",
   "execution_count": null,
   "metadata": {},
   "outputs": [],
   "source": [
    "nums(\"\")"
   ]
  },
  {
   "cell_type": "code",
   "execution_count": null,
   "metadata": {},
   "outputs": [],
   "source": [
    "nums(\"12 3 456 7\")"
   ]
  },
  {
   "cell_type": "markdown",
   "metadata": {},
   "source": [
    "seqとmoreThan0を組み合わせればコンマで区切られた任意個の数の並びを切り出せる．これは「形式言語とオートマトン」の授業で触れた「カツサンド」パターンの一例になっている（数がパン、コンマがカツ）．"
   ]
  },
  {
   "cell_type": "code",
   "execution_count": null,
   "metadata": {},
   "outputs": [],
   "source": [
    "var csv = seq(num, moreThan0(seq(\",\", num)));"
   ]
  },
  {
   "cell_type": "markdown",
   "metadata": {},
   "source": [
    "今度は4つ目の数以降も正しく切り出されている．"
   ]
  },
  {
   "cell_type": "code",
   "execution_count": null,
   "metadata": {},
   "outputs": [],
   "source": [
    "csv(\"12, 3,456,78, 9\")"
   ]
  },
  {
   "cell_type": "markdown",
   "metadata": {},
   "source": [
    "「カツサンド」パターンは実用上頻出するので、専用のライブラリ関数sepByが用意されている．sepByにパンとカツを与えるとカツサンドのパターンを切り出すパーサを返す．これを用いると上の例と同じことがずっと簡単に書ける．"
   ]
  },
  {
   "cell_type": "code",
   "execution_count": null,
   "metadata": {
    "scrolled": true
   },
   "outputs": [],
   "source": [
    "var csv = sepBy(num,\",\"); "
   ]
  },
  {
   "cell_type": "code",
   "execution_count": null,
   "metadata": {},
   "outputs": [],
   "source": [
    "csv(\"12, 3,456,78, 9\")"
   ]
  },
  {
   "cell_type": "markdown",
   "metadata": {},
   "source": [
    "## 1-6 パーサの並列接続\n",
    "\n",
    "複数のパーサを並列につなぐと後のものが先のもののバックアップ（下支え、予備）として働く．以下に定義するパーサgeq_or_gthは、まず不等号>=を切り出そうと試み、それが失敗したときには不等号>を切り出そうとする．"
   ]
  },
  {
   "cell_type": "code",
   "execution_count": null,
   "metadata": {},
   "outputs": [],
   "source": [
    "var geq_or_gth = oneOf(w(\">=\"), w(\">\"));"
   ]
  },
  {
   "cell_type": "code",
   "execution_count": null,
   "metadata": {},
   "outputs": [],
   "source": [
    "geq_or_gth(\">=0\")"
   ]
  },
  {
   "cell_type": "code",
   "execution_count": null,
   "metadata": {},
   "outputs": [],
   "source": [
    "geq_or_gth(\">0\")"
   ]
  },
  {
   "cell_type": "markdown",
   "metadata": {
    "collapsed": true
   },
   "source": [
    "図示すると以下のようになる．\n",
    "<img src=\"pics/oneof.png\">"
   ]
  },
  {
   "cell_type": "markdown",
   "metadata": {},
   "source": [
    "後の処理が試されるのは、先の処理が失敗した場合に限られることに注意．以下のパーサgth_or_geqは決して>=を切り出すことがない．>=の切り出しが\n",
    "成功するときには必ず>の切り出しも成功するからである．"
   ]
  },
  {
   "cell_type": "code",
   "execution_count": null,
   "metadata": {},
   "outputs": [],
   "source": [
    "var gth_or_geq = oneOf(w(\">\"), w(\">=\"));"
   ]
  },
  {
   "cell_type": "code",
   "execution_count": null,
   "metadata": {},
   "outputs": [],
   "source": [
    "gth_or_geq(\">=0\")"
   ]
  },
  {
   "cell_type": "markdown",
   "metadata": {},
   "source": [
    "## 1-7 オプション（省略可能な処理）の指定\n",
    "\n",
    "処理の省略を許す場合はライブラリ関数optを用いる．以下はコンマ区切で区切られた数の並びを切り出すが、末尾に余分にコンマがあってもよい点が以前と異なる．"
   ]
  },
  {
   "cell_type": "code",
   "execution_count": null,
   "metadata": {},
   "outputs": [],
   "source": [
    "var csv = seq(sepBy(num,\",\"), opt(\",\"))"
   ]
  },
  {
   "cell_type": "code",
   "execution_count": null,
   "metadata": {},
   "outputs": [],
   "source": [
    "csv(\"12,3,45\")"
   ]
  },
  {
   "cell_type": "code",
   "execution_count": null,
   "metadata": {},
   "outputs": [],
   "source": [
    "csv(\"12,3,45,\")"
   ]
  },
  {
   "cell_type": "markdown",
   "metadata": {
    "collapsed": true
   },
   "source": [
    "## 1-8 パーサの再帰的定義\n",
    "\n",
    "パーサの定義は再帰的であってもよい．つまり左辺の変数が右辺の式の中に出現してもよい．ただしダミーの（仮の）関数定義を前に置く必要がある．そうでないと左辺の変数が参照する関数がセットされる前に右辺の変数が参照されるのでエラーになる．\n",
    "\n",
    "例：正しく対応のついたかっこの並びは以下の文法で表せるので再帰的に定義するのが自然である．\n",
    "\n",
    "（例）正しく対応のついたかっこの並び\n",
    "$E \\rightarrow \\varepsilon \\ \\mid \\ ( E ) \\ E$\n",
    "（あるいは右辺に正規表現を流用して\n",
    "$E \\rightarrow ( E )*$）\n",
    "\n",
    "後者の文法にしたがうなら以下のような定義が可能．"
   ]
  },
  {
   "cell_type": "code",
   "execution_count": null,
   "metadata": {},
   "outputs": [],
   "source": [
    "var pexp = function(s) { return pexp(s); }; // ダミーの関数を変数pexpにセットしておく\n",
    "var pexp = moreThan0(seq(w(\"(\"),pexp,w(\")\")));"
   ]
  },
  {
   "cell_type": "code",
   "execution_count": null,
   "metadata": {},
   "outputs": [],
   "source": [
    "pexp(\"((())())\")"
   ]
  },
  {
   "cell_type": "code",
   "execution_count": null,
   "metadata": {},
   "outputs": [],
   "source": [
    "pexp(\"())(\")"
   ]
  },
  {
   "cell_type": "code",
   "execution_count": null,
   "metadata": {},
   "outputs": [],
   "source": [
    "pexp(\")()(\")"
   ]
  },
  {
   "cell_type": "markdown",
   "metadata": {},
   "source": [
    "前者の文法にしがたうなら以下のような定義も可能．"
   ]
  },
  {
   "cell_type": "code",
   "execution_count": null,
   "metadata": {},
   "outputs": [],
   "source": [
    "var pexp2 = function(s) { return pexp2(s); }; // ダミーの関数を変数pexpにセットしておく\n",
    "var pexp2 = opt(seq(w(\"(\"),pexp2,w(\")\"),pexp2));"
   ]
  },
  {
   "cell_type": "code",
   "execution_count": null,
   "metadata": {},
   "outputs": [],
   "source": [
    "pexp2(\"((())())\")"
   ]
  },
  {
   "cell_type": "markdown",
   "metadata": {},
   "source": [
    "[課題2] pexpあるいはpexp2を拡張して，丸かっこだけでなくブラケット（[,]）とブレース（{,}）も許すパーサxpexpを定義せよ．適切なテスト例を考えテストを行え．"
   ]
  },
  {
   "cell_type": "code",
   "execution_count": null,
   "metadata": {},
   "outputs": [],
   "source": [
    "var xpexp = function(s){ return xpexp(s); };\n",
    "// 以下自分で\n",
    "// var xpexp = ..."
   ]
  },
  {
   "cell_type": "code",
   "execution_count": null,
   "metadata": {},
   "outputs": [],
   "source": [
    "xpexp(\"{[()]()}\")"
   ]
  },
  {
   "cell_type": "code",
   "execution_count": null,
   "metadata": {},
   "outputs": [],
   "source": [
    "xpexp(\"(]\")"
   ]
  }
 ],
 "metadata": {
  "kernelspec": {
   "display_name": "Javascript (Node.js)",
   "language": "javascript",
   "name": "javascript"
  },
  "language_info": {
   "file_extension": ".js",
   "mimetype": "application/javascript",
   "name": "javascript",
   "version": "6.7.0"
  }
 },
 "nbformat": 4,
 "nbformat_minor": 1
}
