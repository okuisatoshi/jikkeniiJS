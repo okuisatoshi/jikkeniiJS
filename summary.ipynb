{
 "cells": [
  {
   "cell_type": "markdown",
   "metadata": {},
   "source": [
    "# コンパイラ実験（まとめ）"
   ]
  },
  {
   "cell_type": "markdown",
   "metadata": {},
   "source": [
    "ライブラリ（cumps.js）の読み込み"
   ]
  },
  {
   "cell_type": "code",
   "execution_count": null,
   "metadata": {},
   "outputs": [],
   "source": [
    "var c = require(\"./cumps.js\");\n",
    "for (p in c) global[p] = c[p];\n",
    "function print(s) { console.log(s); }"
   ]
  },
  {
   "cell_type": "markdown",
   "metadata": {},
   "source": [
    "実験1: CSVデータの読み込み"
   ]
  },
  {
   "cell_type": "code",
   "execution_count": null,
   "metadata": {},
   "outputs": [],
   "source": [
    "var num = pat(\"[0-9]+\");\n",
    "var csv = sepBy(num, \",\");"
   ]
  },
  {
   "cell_type": "code",
   "execution_count": null,
   "metadata": {},
   "outputs": [],
   "source": [
    "csv(\"12,345,67,8\");"
   ]
  },
  {
   "cell_type": "markdown",
   "metadata": {},
   "source": [
    "実験2: 電卓"
   ]
  },
  {
   "cell_type": "code",
   "execution_count": null,
   "metadata": {},
   "outputs": [],
   "source": [
    "function expr(s) { return expr(s); }\n",
    "var num    = pat(\"[0-9]+\");\n",
    "var factor = oneOf(num, seq(\"(\", expr, \")\"));\n",
    "var term   = sepBy(factor, oneOf(w(\"*\"), word(\"/\")));\n",
    "var expr   = sepBy(term, oneOf(w(\"+\"), w(\"-\")));\n",
    "\n",
    "function evalExpr(ts) {\n",
    "    var v = ts[0];\n",
    "    for (var i = 1; i < ts.length - 1; i += 2) {\n",
    "        switch (ts[i]) {\n",
    "          case \"+\" : v += ts[i + 1]; break;\n",
    "          case \"-\" : v -= ts[i + 1]; break;\n",
    "          case \"*\" : v *= ts[i + 1]; break;\n",
    "          case \"/\" : v = parseInt(v / ts[i + 1]); \n",
    "        }\n",
    "    }\n",
    "    return v;\n",
    "}\n",
    "\n",
    "num.action = parseInt;\n",
    "term.action = expr.action = evalExpr;"
   ]
  },
  {
   "cell_type": "code",
   "execution_count": null,
   "metadata": {},
   "outputs": [],
   "source": [
    "expr(\"1+2*3\")"
   ]
  },
  {
   "cell_type": "markdown",
   "metadata": {},
   "source": [
    "実験3: 簡単なコンパイラ（式の処理）"
   ]
  },
  {
   "cell_type": "code",
   "execution_count": null,
   "metadata": {},
   "outputs": [],
   "source": [
    "var expr   = function (s) { return expr(s); };\n",
    "var id     = pat(\"[a-zA-Z_][a-zA-Z0-9_]*\");\n",
    "var num    = pat(\"[0-9]+\");\n",
    "var expr0  = oneOf(id, num, seq(\"(\", expr, \")\"));\n",
    "var expr1  = sepBy(expr0, oneOf(w(\"*\"), w(\"/\")));\n",
    "var expr2  = sepBy(expr1, oneOf(w(\"+\"), w(\"-\")));\n",
    "var expr3  = sepBy(expr2, oneOf(w(\">\"), w(\"<\")));\n",
    "var expr   = sepBy(expr3, w(\"==\"));\n",
    "\n",
    "num.action = function (s) {\n",
    "    var n = parseInt(s);\n",
    "    return function () { return n; };\n",
    "};\n",
    "\n",
    "id.action = function (x) {\n",
    "    return function () { return state[x]; };\n",
    "};\n",
    "\n",
    "function compileExpr(ts) {\n",
    "    return function() {\n",
    "        var v = ts[0]();\n",
    "        for (var i = 1; i < ts.length - 1; i += 2) {\n",
    "            switch (ts[i]) {\n",
    "              case \"+\": v += ts[i + 1](); break;\n",
    "              case \"-\": v -= ts[i + 1](); break;\n",
    "              case \"*\": v *= ts[i + 1](); break;\n",
    "              case \"/\": v = parseInt(v / ts[i + 1]()); break;\n",
    "              case \"<\": v = v < ts[i + 1](); break;\n",
    "              case \">\": v = v > ts[i + 1](); break;\n",
    "              case \"==\": v = v === ts[i + 1]();\n",
    "            }\n",
    "        }\n",
    "        return v;\n",
    "    };\n",
    "}\n",
    "\n",
    "expr1.action = expr2.action = expr3.action = expr.action = compileExpr;"
   ]
  },
  {
   "cell_type": "markdown",
   "metadata": {},
   "source": [
    "簡単なコンパイラ（実行文の処理）"
   ]
  },
  {
   "cell_type": "code",
   "execution_count": null,
   "metadata": {},
   "outputs": [],
   "source": [
    "function stmt(s) { return stmt(s); }\n",
    "var lval       = pat(\"[a-zA-Z_][a-zA-Z0-9_]*\");\n",
    "var assignStmt = seq(lval, \"=\", expr, \";\");\n",
    "var whileStmt  = seq(\"while\", \"(\", expr, \")\", stmt);\n",
    "var ifStmt     = seq(\"if\", \"(\", expr, \")\", stmt, opt(seq(\"else\", stmt)));\n",
    "var printStmt  = seq(\"print\", expr, \";\");\n",
    "var program    = moreThan0(stmt);\n",
    "var stmt       = oneOf(assignStmt, whileStmt, ifStmt, printStmt, seq(\"{\", program, \"}\"));\n",
    "\n",
    "assignStmt.action = function(ts) {\n",
    "    var x = ts[0], evalRHS = ts[1];\n",
    "    return function () { state[x] = evalRHS(); };\n",
    "};\n",
    "\n",
    "whileStmt.action = function(ts) {\n",
    "    var evalC = ts[0], runStmt = ts[1];\n",
    "    return function () { while (evalC()) runStmt(); };\n",
    "};\n",
    "\n",
    "ifStmt.action = function(ts) {\n",
    "    var evalC = ts[0], runIf = ts[1], runElse = ts[2] ? ts[2] : function() {};\n",
    "    return function() { if (evalC()) runIf(); else runElse(); };       \n",
    "};\n",
    "\n",
    "printStmt.action = function(ts) {\n",
    "    var eval = ts[0];\n",
    "    return function () { print(eval()); };\n",
    "};\n",
    "\n",
    "program.action = function (ts) {\n",
    "    return function() { for (i = 0; i < ts.length; i++) ts[i](); }; \n",
    "};"
   ]
  },
  {
   "cell_type": "code",
   "execution_count": null,
   "metadata": {},
   "outputs": [],
   "source": [
    "var fib =\"\\\n",
    "n = 30;\\\n",
    "a = 0;\\\n",
    "b = 1;\\\n",
    "while (n > 0) {\\\n",
    "  print b;\\\n",
    "  c = b;\\\n",
    "  b = a + b;\\\n",
    "  a = c;\\\n",
    "  n = n - 1;\\\n",
    "}\\\n",
    "\"\n",
    "state = {};\n",
    "(program(fib).a)();"
   ]
  },
  {
   "cell_type": "code",
   "execution_count": null,
   "metadata": {},
   "outputs": [],
   "source": [
    "var fs = require(\"fs\");\n",
    "function run(file) {\n",
    "    var src = fs.readFileSync(file, {encoding : \"utf8\"});\n",
    "    state = {};\n",
    "    var aout = program(src).a;\n",
    "    aout();\n",
    "}"
   ]
  },
  {
   "cell_type": "code",
   "execution_count": null,
   "metadata": {},
   "outputs": [],
   "source": [
    "run(\"./fib.toy\");"
   ]
  },
  {
   "cell_type": "code",
   "execution_count": null,
   "metadata": {
    "collapsed": true
   },
   "outputs": [],
   "source": []
  }
 ],
 "metadata": {
  "kernelspec": {
   "display_name": "Javascript (Node.js)",
   "language": "javascript",
   "name": "javascript"
  },
  "language_info": {
   "file_extension": ".js",
   "mimetype": "application/javascript",
   "name": "javascript",
   "version": "6.7.0"
  }
 },
 "nbformat": 4,
 "nbformat_minor": 1
}
