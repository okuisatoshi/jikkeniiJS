{
 "cells": [
  {
   "cell_type": "markdown",
   "metadata": {},
   "source": [
    "# 実験2 電卓（式の計算）"
   ]
  },
  {
   "cell_type": "markdown",
   "metadata": {},
   "source": [
    "# 2-1 準備\n",
    "\n",
    "前回の実験で導入したコンマ区切りの数の並びを切り出すパーサcsvを再び取り上げる．"
   ]
  },
  {
   "cell_type": "code",
   "execution_count": null,
   "metadata": {},
   "outputs": [],
   "source": [
    "var c = require(\"./cumps\");\n",
    "for (p in c) global[p] = c[p];\n",
    "function print(s) { console.log(s); }\n",
    "\n",
    "var num = pat(\"[0-9]+\");\n",
    "var csv = sepBy(num, \",\");\n",
    "\n",
    "csv(\"12,3,456\")"
   ]
  },
  {
   "cell_type": "markdown",
   "metadata": {},
   "source": [
    "parseInt関数を用いると文字列を整数に変換できる"
   ]
  },
  {
   "cell_type": "code",
   "execution_count": null,
   "metadata": {},
   "outputs": [],
   "source": [
    "parseInt(\"123\")"
   ]
  },
  {
   "cell_type": "code",
   "execution_count": null,
   "metadata": {},
   "outputs": [],
   "source": [
    "parseInt(\"1010101010\",2)"
   ]
  },
  {
   "cell_type": "code",
   "execution_count": null,
   "metadata": {},
   "outputs": [],
   "source": [
    "parseInt(\"ffe8c\",16)"
   ]
  },
  {
   "cell_type": "code",
   "execution_count": null,
   "metadata": {},
   "outputs": [],
   "source": [
    "parseInt(\"123.45\")"
   ]
  },
  {
   "cell_type": "markdown",
   "metadata": {},
   "source": [
    "# 2-2 アクション\n",
    "\n",
    "パーサの二つの出力（切り出した結果，残りの文字列）のうち前者に接続される関数をパーサのアクションと呼ぶ．例としてparseInt関数をnumパーサのアクションとしてセットするには以下のように代入を用いる．"
   ]
  },
  {
   "cell_type": "code",
   "execution_count": null,
   "metadata": {},
   "outputs": [],
   "source": [
    "num.action = parseInt;"
   ]
  },
  {
   "cell_type": "markdown",
   "metadata": {},
   "source": [
    "その上でcsv関数を呼び出すと，結果の配列の要素が文字列（例：'12'）ではなく整数（例：12）になっているのが分かる．"
   ]
  },
  {
   "cell_type": "code",
   "execution_count": null,
   "metadata": {},
   "outputs": [],
   "source": [
    "csv(\"12,3,456\")"
   ]
  },
  {
   "cell_type": "markdown",
   "metadata": {},
   "source": [
    "# 2-3 式の値を求める\n",
    "\n",
    "与えられた式の値を計算するプログラム（つまり電卓）をつくる．まずは文字列として与えられた式を適切に切り分けるパーサからつくる．"
   ]
  },
  {
   "cell_type": "markdown",
   "metadata": {},
   "source": [
    "数式の文法（電卓式）\n",
    "\\begin{align*}\n",
    "\\text{<演算子>} &\\rightarrow \\text{\"+\"} \\mid  \\text{\"-\"} \\mid  \\text{\"*\"} \\mid  \\text{\"/\"} \\\\\n",
    "\\text{<式>} &\\rightarrow \\text{<数>} (\\text{<演算子>}　\\text{<数>})*\n",
    "\\end{align*}\n",
    "数式もカツサンドのパターンなのでsepBy関数を用いて簡単にパーサを定義できる．"
   ]
  },
  {
   "cell_type": "code",
   "execution_count": null,
   "metadata": {},
   "outputs": [],
   "source": [
    "var op = oneOf(w(\"+\"), w(\"-\"), w(\"*\"), w(\"/\"));\n",
    "var expr0 = sepBy(num, op);"
   ]
  },
  {
   "cell_type": "code",
   "execution_count": null,
   "metadata": {},
   "outputs": [],
   "source": [
    "expr0(\"12+345*6-78/2\")"
   ]
  },
  {
   "cell_type": "markdown",
   "metadata": {
    "collapsed": true
   },
   "source": [
    "次に式の計算を（電卓式に前から順に）おこなう関数をつくる．カツサンドのパターンなので，最初の要素を別扱いし，残りを二つずつ組にして考えるとよい．"
   ]
  },
  {
   "cell_type": "code",
   "execution_count": null,
   "metadata": {},
   "outputs": [],
   "source": [
    "function evalExpr(ts) {\n",
    "    var v = ts[0];\n",
    "    for (var i = 1; i < ts.length - 1; i += 2) {\n",
    "        switch (ts[i]) {\n",
    "          case \"+\" : v += ts[i + 1]; break;\n",
    "          case \"-\" : v -= ts[i + 1]; break;\n",
    "          case \"*\" : v *= ts[i + 1]; break;\n",
    "          case \"/\" : v = parseInt(v / ts[i + 1]); \n",
    "        }\n",
    "    }\n",
    "    return v;\n",
    "}"
   ]
  },
  {
   "cell_type": "markdown",
   "metadata": {
    "collapsed": true
   },
   "source": [
    "最後にこの関数evalExprをパーサexpr0のアクションとしてセットする．"
   ]
  },
  {
   "cell_type": "code",
   "execution_count": null,
   "metadata": {},
   "outputs": [],
   "source": [
    "expr0.action = evalExpr;"
   ]
  },
  {
   "cell_type": "markdown",
   "metadata": {
    "collapsed": true
   },
   "source": [
    "再び先程と同じようにexpr0を呼び出すと今度は式の値が返ってくることが分かる．"
   ]
  },
  {
   "cell_type": "code",
   "execution_count": null,
   "metadata": {},
   "outputs": [],
   "source": [
    "expr0(\"12+345*6-78/2\")"
   ]
  },
  {
   "cell_type": "markdown",
   "metadata": {},
   "source": [
    "# 2-3 演算の優先順位を考慮する\n",
    "\n",
    "上記のプログラムは式を電卓式に前から単純に計算するので，普通の数学の式の計算の順序と異なる．例えば1+2*3の値は7になるべきだが9になってしまう．"
   ]
  },
  {
   "cell_type": "code",
   "execution_count": null,
   "metadata": {},
   "outputs": [],
   "source": [
    "expr0(\"1+2*3\")"
   ]
  },
  {
   "cell_type": "markdown",
   "metadata": {},
   "source": [
    "そこで多項式の考え方を取り入れ，式を項がカツサンドのパターンで並んだものとみなす．項自身もカツサンドのパターンである．\n",
    "\\begin{align*}\n",
    "\\text{<項>} &\\rightarrow \\text{<数>} ((\\text{<\"*\">}\\mid\\text{<\"/\">}) \\text{<項>})* \\\\\n",
    "\\text{<式>} &\\rightarrow \\text{<項>} ((\\text{<\"+\">}\\mid\\text{<\"-\">}) \\text{<式>})*\n",
    "\\end{align*}"
   ]
  },
  {
   "cell_type": "markdown",
   "metadata": {
    "collapsed": true
   },
   "source": [
    "これはそのまま以下のパーサ定義に移せる．"
   ]
  },
  {
   "cell_type": "code",
   "execution_count": null,
   "metadata": {},
   "outputs": [],
   "source": [
    "var term   = sepBy(num, oneOf(w(\"*\"), word(\"/\")));\n",
    "var expr   = sepBy(term, oneOf(w(\"+\"), w(\"-\")));"
   ]
  },
  {
   "cell_type": "markdown",
   "metadata": {},
   "source": [
    "項の計算も式の計算もそれぞれ電卓式に前から順に行えばよいので，evalExprが全く変更なしに再利用できる（ここがポイント！）"
   ]
  },
  {
   "cell_type": "code",
   "execution_count": null,
   "metadata": {},
   "outputs": [],
   "source": [
    "term.action = expr.action = evalExpr;"
   ]
  },
  {
   "cell_type": "markdown",
   "metadata": {},
   "source": [
    "今度は値が正しく7になる．"
   ]
  },
  {
   "cell_type": "code",
   "execution_count": null,
   "metadata": {},
   "outputs": [],
   "source": [
    "expr(\"1+2*3\")"
   ]
  },
  {
   "cell_type": "markdown",
   "metadata": {},
   "source": [
    "# 2-4 式にかっこを許す\n",
    "\n",
    "明示的にかっこでくくられた式はひとまとまりとみなして計算される．つまりかっこでくくられた式は単一の数と同じ扱いを受ける言わば「数のようなもの」（これを因子（factor）と呼ぶ）である．\n",
    "\\begin{align*}\n",
    "\\text{<因子>} &\\rightarrow \\text{<数>} \\ \\mid \\ \\text{\"(\"}\\text{<式>}\\text{\")\"} \\\\\n",
    "\\text{<項>} &\\rightarrow \\text{<因子>} ((\\text{<\"*\">}\\mid\\text{<\"/\">}) \\text{<項>})* \\\\\n",
    "\\text{<式>} &\\rightarrow \\text{<項>} ((\\text{<\"+\">}\\mid\\text{<\"-\">}) \\text{<式>})*\n",
    "\\end{align*}"
   ]
  },
  {
   "cell_type": "markdown",
   "metadata": {
    "collapsed": true
   },
   "source": [
    "この文法もそのまま以下のパーサ定義に移る．ただしexprの定義が再帰的なので最初にダミーの定義が必要（前回の実験参照）．"
   ]
  },
  {
   "cell_type": "code",
   "execution_count": null,
   "metadata": {},
   "outputs": [],
   "source": [
    "function expr(s) { return expr(s); }\n",
    "var factor = oneOf(num, seq(\"(\", expr, \")\"));\n",
    "var term   = sepBy(factor, oneOf(w(\"*\"), word(\"/\")));\n",
    "var expr   = sepBy(term, oneOf(w(\"+\"), w(\"-\")));"
   ]
  },
  {
   "cell_type": "markdown",
   "metadata": {},
   "source": [
    "やはりevalExprが再利用できる．"
   ]
  },
  {
   "cell_type": "code",
   "execution_count": null,
   "metadata": {},
   "outputs": [],
   "source": [
    "term.action = expr.action = evalExpr;"
   ]
  },
  {
   "cell_type": "markdown",
   "metadata": {
    "collapsed": true
   },
   "source": [
    "かっこでかこまれた1+2が先に計算されるので結果は9になる．"
   ]
  },
  {
   "cell_type": "code",
   "execution_count": null,
   "metadata": {},
   "outputs": [],
   "source": [
    "expr(\"(1+2)*3\")"
   ]
  },
  {
   "cell_type": "markdown",
   "metadata": {},
   "source": [
    "[課題3] termとexprのアクションとしてevalExprの代わりに適当な関数(それをemitASTと呼ぶ)を設定し，数式を読み込むと括弧を補った数式が出力されるようにせよ．ヒント：式の計算でやったように分けて考えると電卓式の単純な処理に帰着する．"
   ]
  },
  {
   "cell_type": "code",
   "execution_count": null,
   "metadata": {},
   "outputs": [],
   "source": [
    "function emitAST(ts) {\n",
    "    // evalExprを参考にここを自分で書く\n",
    "}\n",
    "\n",
    "term.action = expr.action = emitAST;"
   ]
  },
  {
   "cell_type": "markdown",
   "metadata": {},
   "source": [
    "テスト例（十分ではない．他の例は自分で補え．）"
   ]
  },
  {
   "cell_type": "code",
   "execution_count": null,
   "metadata": {},
   "outputs": [],
   "source": [
    "expr(\"1+2*3\") // ==> (1+(2*3))"
   ]
  },
  {
   "cell_type": "code",
   "execution_count": null,
   "metadata": {},
   "outputs": [],
   "source": [
    "expr(\"1-2-3-4\") // ==> (((1-2)-3)-4)"
   ]
  },
  {
   "cell_type": "markdown",
   "metadata": {},
   "source": [
    "（参考）文字列の連結には+を使う"
   ]
  },
  {
   "cell_type": "code",
   "execution_count": null,
   "metadata": {},
   "outputs": [],
   "source": [
    "\"abc\" + \"def\""
   ]
  }
 ],
 "metadata": {
  "kernelspec": {
   "display_name": "Javascript (Node.js)",
   "language": "javascript",
   "name": "javascript"
  },
  "language_info": {
   "file_extension": ".js",
   "mimetype": "application/javascript",
   "name": "javascript",
   "version": "6.7.0"
  }
 },
 "nbformat": 4,
 "nbformat_minor": 1
}
